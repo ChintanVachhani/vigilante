{
 "cells": [
  {
   "cell_type": "markdown",
   "metadata": {},
   "source": [
    "# Data Prediction"
   ]
  },
  {
   "cell_type": "markdown",
   "metadata": {},
   "source": [
    "This notebook is used to predict on the given values for the saved trained model."
   ]
  },
  {
   "cell_type": "code",
   "execution_count": 1,
   "metadata": {},
   "outputs": [],
   "source": [
    "import pandas as pd\n",
    "import numpy as np\n",
    "import pickle\n",
    "from sklearn.model_selection import train_test_split\n",
    "from sklearn.neighbors import KNeighborsClassifier\n",
    "from sklearn.preprocessing import LabelEncoder\n",
    "from sklearn.metrics import f1_score\n",
    "from math import sin, cos, sqrt, atan2, radians"
   ]
  },
  {
   "cell_type": "markdown",
   "metadata": {},
   "source": [
    "## Methods"
   ]
  },
  {
   "cell_type": "code",
   "execution_count": 2,
   "metadata": {},
   "outputs": [],
   "source": [
    "def loadModel(name):\n",
    "    '''\n",
    "    function to load model object with the given name.\n",
    "    '''\n",
    "    with open('store/'+name+'_model.pkl', 'rb') as f:\n",
    "        model = pickle.load(f)\n",
    "    return model"
   ]
  },
  {
   "cell_type": "code",
   "execution_count": 3,
   "metadata": {},
   "outputs": [],
   "source": [
    "def discretizeTime(time):\n",
    "    '''\n",
    "    function to map 24-hours format time to one of the six 4 hours intervals.\n",
    "    '''\n",
    "    if '00:00' <= time < '04:00':\n",
    "        return 't1'\n",
    "    elif '04:00' <= time < '08:00':\n",
    "        return 't2'\n",
    "    elif '08:00' <= time < '12:00':\n",
    "        return 't3'\n",
    "    elif '12:00' <= time < '16:00':\n",
    "        return 't4'\n",
    "    elif '16:00' <= time < '20:00':\n",
    "        return 't5'\n",
    "    elif '20:00' <= time < '24:00':\n",
    "        return 't6'"
   ]
  },
  {
   "cell_type": "code",
   "execution_count": 4,
   "metadata": {},
   "outputs": [],
   "source": [
    "def calculateDistance(src, dst):\n",
    "    '''\n",
    "    function to calculate the distance between two locations on earth\n",
    "    using src & dst tuples given in the format (latitude, longitude).\n",
    "    '''\n",
    "    # approximate radius of earth in km\n",
    "    R = 6373.0\n",
    "\n",
    "    # approximate 1 km to miles conversion\n",
    "    to_miles = 0.621371\n",
    "\n",
    "    lat1 = radians(abs(src[0]))\n",
    "    lon1 = radians(abs(src[1]))\n",
    "    lat2 = radians(abs(dst[0]))\n",
    "    lon2 = radians(abs(dst[1]))\n",
    "\n",
    "    dlon = lon2 - lon1\n",
    "    dlat = lat2 - lat1\n",
    "\n",
    "    a = sin(dlat / 2)**2 + cos(lat1) * cos(lat2) * sin(dlon / 2)**2\n",
    "    c = 2 * atan2(sqrt(a), sqrt(1 - a))\n",
    "\n",
    "    return R * c * to_miles"
   ]
  },
  {
   "cell_type": "code",
   "execution_count": 5,
   "metadata": {},
   "outputs": [],
   "source": [
    "def isNear(location, data, radius):\n",
    "    '''\n",
    "    function to determine if the given location (latitude, longitude)\n",
    "    is near to any location in the given data (dataframe) based on the given radius.\n",
    "    '''\n",
    "    for index, row in data.iterrows():\n",
    "        if calculateDistance(location, (row['latitude'], row['longitude'])) <= radius:\n",
    "            return 1\n",
    "    return 0"
   ]
  },
  {
   "cell_type": "code",
   "execution_count": 6,
   "metadata": {},
   "outputs": [],
   "source": [
    "def loadLabelEncoder(column):\n",
    "    '''\n",
    "    function to load label encoder object for the given column.\n",
    "    '''\n",
    "    with open('store/'+column+'_label_encoder.pkl', 'rb') as f:\n",
    "        le = pickle.load(f)\n",
    "    return le"
   ]
  },
  {
   "cell_type": "code",
   "execution_count": 7,
   "metadata": {},
   "outputs": [],
   "source": [
    "def createDataPoint(day, district, longitude, latitude, month, time):\n",
    "    columns = [\n",
    "        loadLabelEncoder('day').transform(np.array([day]))[0],\n",
    "        loadLabelEncoder('district').transform(np.array([district]))[0],\n",
    "        longitude,\n",
    "        latitude,\n",
    "        loadLabelEncoder('month').transform(np.array([month]))[0],\n",
    "        loadLabelEncoder('time_interval').transform(np.array([discretizeTime(time)]))[0],\n",
    "        0,\n",
    "        isNear((latitude, longitude), pd.read_pickle('store/facilities.pkl', compression='gzip'), 1),\n",
    "        isNear((latitude, longitude), pd.read_pickle('store/private_spaces.pkl', compression='gzip'), 1),\n",
    "        isNear((latitude, longitude), pd.read_pickle('store/colleges.pkl', compression='gzip'), 1),\n",
    "        isNear((latitude, longitude), pd.read_pickle('store/public_open_spaces.pkl', compression='gzip'), 1),\n",
    "        isNear((latitude, longitude), pd.read_pickle('store/commuter_stops.pkl', compression='gzip'), 1),\n",
    "        isNear((latitude, longitude), pd.read_pickle('store/public_park.pkl', compression='gzip'), 1),\n",
    "        isNear((latitude, longitude), pd.read_pickle('store/landmarks.pkl', compression='gzip'), 1),\n",
    "        isNear((latitude, longitude), pd.read_pickle('store/schools.pkl', compression='gzip'), 1)\n",
    "    ]\n",
    "    return np.array(columns).reshape(1, -1)"
   ]
  },
  {
   "cell_type": "code",
   "execution_count": 8,
   "metadata": {},
   "outputs": [],
   "source": [
    "def getLabel(pred):\n",
    "    return loadLabelEncoder('label').inverse_transform(pred)[0]"
   ]
  },
  {
   "cell_type": "markdown",
   "metadata": {},
   "source": [
    "## Model"
   ]
  },
  {
   "cell_type": "code",
   "execution_count": 9,
   "metadata": {},
   "outputs": [
    {
     "data": {
      "text/plain": [
       "array([[   3.      ,    9.      , -122.414406,   37.784191,    3.      ,\n",
       "           0.      ,    0.      ,    1.      ,    1.      ,    1.      ,\n",
       "           1.      ,    1.      ,    1.      ,    1.      ,    1.      ]])"
      ]
     },
     "execution_count": 9,
     "metadata": {},
     "output_type": "execute_result"
    }
   ],
   "source": [
    "createDataPoint('sunday', 'tenderloin',-122.414406, 37.784191, 'february', '02:00')"
   ]
  },
  {
   "cell_type": "code",
   "execution_count": 10,
   "metadata": {},
   "outputs": [
    {
     "name": "stderr",
     "output_type": "stream",
     "text": [
      "c:\\programdata\\python36\\lib\\site-packages\\sklearn\\preprocessing\\label.py:151: DeprecationWarning: The truth value of an empty array is ambiguous. Returning False, but in future this will result in an error. Use `array.size > 0` to check that an array is not empty.\n",
      "  if diff:\n"
     ]
    },
    {
     "data": {
      "text/plain": [
       "'high'"
      ]
     },
     "execution_count": 10,
     "metadata": {},
     "output_type": "execute_result"
    }
   ],
   "source": [
    "getLabel(np.array([0]))"
   ]
  },
  {
   "cell_type": "code",
   "execution_count": null,
   "metadata": {},
   "outputs": [],
   "source": []
  }
 ],
 "metadata": {
  "kernelspec": {
   "display_name": "Python 3",
   "language": "python",
   "name": "python3"
  },
  "language_info": {
   "codemirror_mode": {
    "name": "ipython",
    "version": 3
   },
   "file_extension": ".py",
   "mimetype": "text/x-python",
   "name": "python",
   "nbconvert_exporter": "python",
   "pygments_lexer": "ipython3",
   "version": "3.6.5"
  }
 },
 "nbformat": 4,
 "nbformat_minor": 2
}
