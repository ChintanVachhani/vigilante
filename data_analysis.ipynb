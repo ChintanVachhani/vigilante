{
 "cells": [
  {
   "cell_type": "markdown",
   "metadata": {},
   "source": [
    "# Data Analysis"
   ]
  },
  {
   "cell_type": "markdown",
   "metadata": {},
   "source": [
    "This notebook is used to analyse the considered datasets and visualize the information they provide."
   ]
  },
  {
   "cell_type": "code",
   "execution_count": 5,
   "metadata": {},
   "outputs": [],
   "source": [
    "import pandas as pd\n",
    "import numpy as np\n",
    "import math\n",
    "import pickle\n",
    "from matplotlib import pyplot as plt\n",
    "%matplotlib inline\n",
    "import seaborn as sns\n",
    "sns.set(style=\"white\")"
   ]
  },
  {
   "cell_type": "markdown",
   "metadata": {},
   "source": [
    "## Methods"
   ]
  },
  {
   "cell_type": "code",
   "execution_count": null,
   "metadata": {},
   "outputs": [],
   "source": []
  },
  {
   "cell_type": "markdown",
   "metadata": {},
   "source": [
    "## Visualizations"
   ]
  },
  {
   "cell_type": "markdown",
   "metadata": {},
   "source": [
    "Read the saved dataframe from store directory."
   ]
  },
  {
   "cell_type": "code",
   "execution_count": 6,
   "metadata": {},
   "outputs": [],
   "source": [
    "crime_data = pd.read_pickle('store/crime_data.pickle')"
   ]
  },
  {
   "cell_type": "code",
   "execution_count": 7,
   "metadata": {},
   "outputs": [
    {
     "data": {
      "text/html": [
       "<div>\n",
       "<style scoped>\n",
       "    .dataframe tbody tr th:only-of-type {\n",
       "        vertical-align: middle;\n",
       "    }\n",
       "\n",
       "    .dataframe tbody tr th {\n",
       "        vertical-align: top;\n",
       "    }\n",
       "\n",
       "    .dataframe thead th {\n",
       "        text-align: right;\n",
       "    }\n",
       "</style>\n",
       "<table border=\"1\" class=\"dataframe\">\n",
       "  <thead>\n",
       "    <tr style=\"text-align: right;\">\n",
       "      <th></th>\n",
       "      <th>category</th>\n",
       "      <th>day</th>\n",
       "      <th>time</th>\n",
       "      <th>district</th>\n",
       "      <th>address</th>\n",
       "      <th>longitude</th>\n",
       "      <th>latitude</th>\n",
       "      <th>month</th>\n",
       "      <th>year</th>\n",
       "      <th>interval</th>\n",
       "      <th>resolved</th>\n",
       "      <th>label</th>\n",
       "    </tr>\n",
       "  </thead>\n",
       "  <tbody>\n",
       "    <tr>\n",
       "      <th>1</th>\n",
       "      <td>robbery</td>\n",
       "      <td>sunday</td>\n",
       "      <td>15:45</td>\n",
       "      <td>tenderloin</td>\n",
       "      <td>300 block of leavenworth st</td>\n",
       "      <td>-122.414406</td>\n",
       "      <td>37.784191</td>\n",
       "      <td>02</td>\n",
       "      <td>2015</td>\n",
       "      <td>t4</td>\n",
       "      <td>no</td>\n",
       "      <td>high</td>\n",
       "    </tr>\n",
       "    <tr>\n",
       "      <th>2</th>\n",
       "      <td>assault</td>\n",
       "      <td>sunday</td>\n",
       "      <td>15:45</td>\n",
       "      <td>tenderloin</td>\n",
       "      <td>300 block of leavenworth st</td>\n",
       "      <td>-122.414406</td>\n",
       "      <td>37.784191</td>\n",
       "      <td>02</td>\n",
       "      <td>2015</td>\n",
       "      <td>t4</td>\n",
       "      <td>no</td>\n",
       "      <td>high</td>\n",
       "    </tr>\n",
       "    <tr>\n",
       "      <th>4</th>\n",
       "      <td>vandalism</td>\n",
       "      <td>tuesday</td>\n",
       "      <td>19:00</td>\n",
       "      <td>northern</td>\n",
       "      <td>lombard st / laguna st</td>\n",
       "      <td>-122.431119</td>\n",
       "      <td>37.800469</td>\n",
       "      <td>01</td>\n",
       "      <td>2015</td>\n",
       "      <td>t5</td>\n",
       "      <td>no</td>\n",
       "      <td>high</td>\n",
       "    </tr>\n",
       "    <tr>\n",
       "      <th>7</th>\n",
       "      <td>vandalism</td>\n",
       "      <td>saturday</td>\n",
       "      <td>21:00</td>\n",
       "      <td>bayview</td>\n",
       "      <td>700 block of kirkwood av</td>\n",
       "      <td>-122.374019</td>\n",
       "      <td>37.729203</td>\n",
       "      <td>01</td>\n",
       "      <td>2015</td>\n",
       "      <td>t6</td>\n",
       "      <td>no</td>\n",
       "      <td>high</td>\n",
       "    </tr>\n",
       "    <tr>\n",
       "      <th>8</th>\n",
       "      <td>burglary</td>\n",
       "      <td>saturday</td>\n",
       "      <td>16:09</td>\n",
       "      <td>central</td>\n",
       "      <td>200 block of stockton st</td>\n",
       "      <td>-122.406568</td>\n",
       "      <td>37.787809</td>\n",
       "      <td>01</td>\n",
       "      <td>2015</td>\n",
       "      <td>t5</td>\n",
       "      <td>no</td>\n",
       "      <td>high</td>\n",
       "    </tr>\n",
       "  </tbody>\n",
       "</table>\n",
       "</div>"
      ],
      "text/plain": [
       "    category       day   time    district                      address  \\\n",
       "1    robbery    sunday  15:45  tenderloin  300 block of leavenworth st   \n",
       "2    assault    sunday  15:45  tenderloin  300 block of leavenworth st   \n",
       "4  vandalism   tuesday  19:00    northern       lombard st / laguna st   \n",
       "7  vandalism  saturday  21:00     bayview     700 block of kirkwood av   \n",
       "8   burglary  saturday  16:09     central     200 block of stockton st   \n",
       "\n",
       "    longitude   latitude month  year interval resolved label  \n",
       "1 -122.414406  37.784191    02  2015       t4       no  high  \n",
       "2 -122.414406  37.784191    02  2015       t4       no  high  \n",
       "4 -122.431119  37.800469    01  2015       t5       no  high  \n",
       "7 -122.374019  37.729203    01  2015       t6       no  high  \n",
       "8 -122.406568  37.787809    01  2015       t5       no  high  "
      ]
     },
     "execution_count": 7,
     "metadata": {},
     "output_type": "execute_result"
    }
   ],
   "source": [
    "crime_data.head()"
   ]
  },
  {
   "cell_type": "markdown",
   "metadata": {},
   "source": [
    "Crime rate over years."
   ]
  },
  {
   "cell_type": "code",
   "execution_count": 13,
   "metadata": {},
   "outputs": [
    {
     "data": {
      "text/plain": [
       "Text(0.5,0.98,'Crime occurences over years.')"
      ]
     },
     "execution_count": 13,
     "metadata": {},
     "output_type": "execute_result"
    },
    {
     "data": {
      "image/png": "[encoded data removed]",
      "text/plain": [
       "<Figure size 648x432 with 1 Axes>"
      ]
     },
     "metadata": {},
     "output_type": "display_data"
    }
   ],
   "source": [
    "g = sns.factorplot(x=\"year\", data=crime_data, kind=\"count\",\n",
    "                   palette=\"Blues\", size=6, aspect=1.5, order=np.sort(crime_data['year'].unique()))\n",
    "g.set_xticklabels(step=1)\n",
    "g.fig.suptitle('Crime occurences over years.')"
   ]
  },
  {
   "cell_type": "code",
   "execution_count": null,
   "metadata": {},
   "outputs": [],
   "source": []
  }
 ],
 "metadata": {
  "kernelspec": {
   "display_name": "Python 3",
   "language": "python",
   "name": "python3"
  },
  "language_info": {
   "codemirror_mode": {
    "name": "ipython",
    "version": 3
   },
   "file_extension": ".py",
   "mimetype": "text/x-python",
   "name": "python",
   "nbconvert_exporter": "python",
   "pygments_lexer": "ipython3",
   "version": "3.6.5"
  }
 },
 "nbformat": 4,
 "nbformat_minor": 2
}
