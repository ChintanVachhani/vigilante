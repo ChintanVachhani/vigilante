{
 "cells": [
  {
   "cell_type": "markdown",
   "metadata": {},
   "source": [
    "# Data Preprocessing"
   ]
  },
  {
   "cell_type": "markdown",
   "metadata": {},
   "source": [
    "This notebook is used to clean, reduce, transform, integrate and discretize the final data set."
   ]
  },
  {
   "cell_type": "code",
   "execution_count": 1,
   "metadata": {},
   "outputs": [],
   "source": [
    "import pandas as pd\n",
    "import numpy as np\n",
    "from math import sin, cos, sqrt, atan2, radians\n",
    "import pickle"
   ]
  },
  {
   "cell_type": "markdown",
   "metadata": {},
   "source": [
    "## Methods"
   ]
  },
  {
   "cell_type": "code",
   "execution_count": 2,
   "metadata": {},
   "outputs": [],
   "source": [
    "def discretizeTime(time):\n",
    "    '''\n",
    "    function to map 24-hours format time to one of the six 4 hours intervals.\n",
    "    '''\n",
    "    if '00:00' <= time < '04:00':\n",
    "        return 't1'\n",
    "    elif '04:00' <= time < '08:00':\n",
    "        return 't2'\n",
    "    elif '08:00' <= time < '12:00':\n",
    "        return 't3'\n",
    "    elif '12:00' <= time < '16:00':\n",
    "        return 't4'\n",
    "    elif '16:00' <= time < '20:00':\n",
    "        return 't5'\n",
    "    elif '20:00' <= time < '24:00':\n",
    "        return 't6'"
   ]
  },
  {
   "cell_type": "code",
   "execution_count": 3,
   "metadata": {},
   "outputs": [],
   "source": [
    "def categorizeResolution(status):\n",
    "    '''\n",
    "    function to tag a resolution as No if the crime is not resolved, otherwise Yes.\n",
    "    '''\n",
    "    if status == 'NONE':\n",
    "        return 'no'\n",
    "    else:\n",
    "        return 'yes'"
   ]
  },
  {
   "cell_type": "code",
   "execution_count": 4,
   "metadata": {},
   "outputs": [],
   "source": [
    "def calculateDistance(src, dst):\n",
    "    '''\n",
    "    function to calculate the distance between two locations on earth\n",
    "    using src & dst tuples given in the format (latitude, longitude).\n",
    "    '''\n",
    "    # approximate radius of earth in km\n",
    "    R = 6373.0\n",
    "\n",
    "    # approximate 1 km to miles conversion\n",
    "    to_miles = 0.621371\n",
    "\n",
    "    lat1 = radians(abs(src[0]))\n",
    "    lon1 = radians(abs(src[1]))\n",
    "    lat2 = radians(abs(dst[0]))\n",
    "    lon2 = radians(abs(dst[1]))\n",
    "\n",
    "    dlon = lon2 - lon1\n",
    "    dlat = lat2 - lat1\n",
    "\n",
    "    a = sin(dlat / 2)**2 + cos(lat1) * cos(lat2) * sin(dlon / 2)**2\n",
    "    c = 2 * atan2(sqrt(a), sqrt(1 - a))\n",
    "\n",
    "    return R * c * to_miles"
   ]
  },
  {
   "cell_type": "code",
   "execution_count": 5,
   "metadata": {},
   "outputs": [],
   "source": [
    "def isNear(location, data, radius):\n",
    "    '''\n",
    "    function to determine if the given location (latitude, longitude)\n",
    "    is near to any location in the given data (dataframe) based on the given radius.\n",
    "    '''\n",
    "    for index, row in data.iterrows():\n",
    "        if calculateDistance(location, (row['latitude'], row['longitude'])) <= radius:\n",
    "            return 'yes'\n",
    "    return 'no'"
   ]
  },
  {
   "cell_type": "code",
   "execution_count": 6,
   "metadata": {},
   "outputs": [],
   "source": [
    "def labelCategory(category):\n",
    "    '''\n",
    "    function to label a data point as per crime category.\n",
    "    '''\n",
    "    low = [\"trespass\", \"bribery\", \"bad checks\", \"drunkenness\", \"suicide\", \"runaway\", \"family offenses\", \"loitering\", \"trea\", \"liquor laws\", \"warrants\", \"other offenses\", \"forgery/counterfeiting\", \"sex offenses, non forcible\"]\n",
    "    moderate = [\"arson\", \"driving under the influence\", \"stolen property\", \"prostitution\", \"recovered vehicle\", \"suspicious occ\", \"pornography/obscene mat\" , \"disorderly conduct\"]\n",
    "    high = [\"vehicle theft\", \"weapon laws\", \"vandalism\", \"assault\", \"robbery\", \"sex offenses, forcible\", \"missing person\", \"larceny/theft\", \"kidnapping\", \"fraud\", \"extortion\", \"burglary\", \"drug/narcotic\" ]\n",
    "    if category in low:\n",
    "        return 'low'\n",
    "    elif category in moderate:\n",
    "        return 'moderate'\n",
    "    elif category in high:\n",
    "        return 'high'"
   ]
  },
  {
   "cell_type": "markdown",
   "metadata": {},
   "source": [
    "## Process"
   ]
  },
  {
   "cell_type": "code",
   "execution_count": 7,
   "metadata": {},
   "outputs": [],
   "source": [
    "crime_data = pd.read_csv('data/crime_data.csv')"
   ]
  },
  {
   "cell_type": "markdown",
   "metadata": {},
   "source": [
    "Clean the data. Replace 'nan' values with 'N/A'. Drop columns that do not help with the goal. Remove rows that do not fall under the goal criteria."
   ]
  },
  {
   "cell_type": "code",
   "execution_count": 8,
   "metadata": {},
   "outputs": [],
   "source": [
    "crime_data = crime_data.replace(np.nan, 'N/A')\n",
    "crime_data = crime_data.drop(['IncidntNum', 'Descript', 'Location', 'PdId'], axis=1)\n",
    "crime_data = crime_data[crime_data.PdDistrict != 'N/A']\n",
    "crime_data = crime_data[crime_data.Category != 'NON-CRIMINAL']\n",
    "crime_data = crime_data[crime_data.Category != 'SECONDARY CODES']\n",
    "crime_data = crime_data[crime_data.Category != 'GAMBLING']\n",
    "crime_data = crime_data[crime_data.Category != 'EMBEZZLEMENT']"
   ]
  },
  {
   "cell_type": "markdown",
   "metadata": {},
   "source": [
    "Modify the column names and values to match the scenario and neccesity."
   ]
  },
  {
   "cell_type": "code",
   "execution_count": 9,
   "metadata": {},
   "outputs": [],
   "source": [
    "crime_data = crime_data.rename(str.lower, axis='columns')\n",
    "crime_data = crime_data.rename(index=str, columns={\"dayofweek\": \"day\", \"pddistrict\": \"district\", \"x\": \"longitude\", \"y\": \"latitude\"})\n",
    "crime_data['category'] = crime_data['category'].apply(str.lower)\n",
    "crime_data['day'] = crime_data['day'].apply(str.lower)\n",
    "crime_data['district'] = crime_data['district'].apply(str.lower)\n",
    "crime_data['address'] = crime_data['address'].apply(str.lower)"
   ]
  },
  {
   "cell_type": "markdown",
   "metadata": {},
   "source": [
    "Split the 'date' column into 'month' and 'year' for better classification."
   ]
  },
  {
   "cell_type": "code",
   "execution_count": 10,
   "metadata": {},
   "outputs": [],
   "source": [
    "date = crime_data['date'].str.split('/')\n",
    "month = date.apply(lambda x: x[0])\n",
    "year = date.apply(lambda x: x[2])\n",
    "crime_data['month'] = month\n",
    "crime_data['year'] = year\n",
    "crime_data = crime_data.drop('date', axis=1)"
   ]
  },
  {
   "cell_type": "markdown",
   "metadata": {},
   "source": [
    "Discretize 'time' column to be represented using 6 interval classes."
   ]
  },
  {
   "cell_type": "code",
   "execution_count": 11,
   "metadata": {},
   "outputs": [],
   "source": [
    "interval = crime_data['time'].apply(discretizeTime)\n",
    "crime_data['interval'] = interval"
   ]
  },
  {
   "cell_type": "markdown",
   "metadata": {},
   "source": [
    "Create a 'resolved' column to represent if a crime report was resolved or not."
   ]
  },
  {
   "cell_type": "code",
   "execution_count": 12,
   "metadata": {},
   "outputs": [],
   "source": [
    "resolved = crime_data['resolution'].apply(categorizeResolution)\n",
    "crime_data['resolved'] = resolved\n",
    "crime_data = crime_data.drop('resolution', axis=1)"
   ]
  },
  {
   "cell_type": "markdown",
   "metadata": {},
   "source": [
    "Externally label the data points to reflect what is to be achieved."
   ]
  },
  {
   "cell_type": "code",
   "execution_count": 13,
   "metadata": {},
   "outputs": [],
   "source": [
    "label = crime_data['category'].apply(labelCategory)\n",
    "crime_data['label'] = label"
   ]
  },
  {
   "cell_type": "code",
   "execution_count": 14,
   "metadata": {},
   "outputs": [
    {
     "data": {
      "text/html": [
       "<div>\n",
       "<style scoped>\n",
       "    .dataframe tbody tr th:only-of-type {\n",
       "        vertical-align: middle;\n",
       "    }\n",
       "\n",
       "    .dataframe tbody tr th {\n",
       "        vertical-align: top;\n",
       "    }\n",
       "\n",
       "    .dataframe thead th {\n",
       "        text-align: right;\n",
       "    }\n",
       "</style>\n",
       "<table border=\"1\" class=\"dataframe\">\n",
       "  <thead>\n",
       "    <tr style=\"text-align: right;\">\n",
       "      <th></th>\n",
       "      <th>category</th>\n",
       "      <th>day</th>\n",
       "      <th>time</th>\n",
       "      <th>district</th>\n",
       "      <th>address</th>\n",
       "      <th>longitude</th>\n",
       "      <th>latitude</th>\n",
       "      <th>month</th>\n",
       "      <th>year</th>\n",
       "      <th>interval</th>\n",
       "      <th>resolved</th>\n",
       "      <th>label</th>\n",
       "    </tr>\n",
       "  </thead>\n",
       "  <tbody>\n",
       "    <tr>\n",
       "      <th>1</th>\n",
       "      <td>robbery</td>\n",
       "      <td>sunday</td>\n",
       "      <td>15:45</td>\n",
       "      <td>tenderloin</td>\n",
       "      <td>300 block of leavenworth st</td>\n",
       "      <td>-122.414406</td>\n",
       "      <td>37.784191</td>\n",
       "      <td>02</td>\n",
       "      <td>2015</td>\n",
       "      <td>t4</td>\n",
       "      <td>no</td>\n",
       "      <td>high</td>\n",
       "    </tr>\n",
       "    <tr>\n",
       "      <th>2</th>\n",
       "      <td>assault</td>\n",
       "      <td>sunday</td>\n",
       "      <td>15:45</td>\n",
       "      <td>tenderloin</td>\n",
       "      <td>300 block of leavenworth st</td>\n",
       "      <td>-122.414406</td>\n",
       "      <td>37.784191</td>\n",
       "      <td>02</td>\n",
       "      <td>2015</td>\n",
       "      <td>t4</td>\n",
       "      <td>no</td>\n",
       "      <td>high</td>\n",
       "    </tr>\n",
       "    <tr>\n",
       "      <th>4</th>\n",
       "      <td>vandalism</td>\n",
       "      <td>tuesday</td>\n",
       "      <td>19:00</td>\n",
       "      <td>northern</td>\n",
       "      <td>lombard st / laguna st</td>\n",
       "      <td>-122.431119</td>\n",
       "      <td>37.800469</td>\n",
       "      <td>01</td>\n",
       "      <td>2015</td>\n",
       "      <td>t5</td>\n",
       "      <td>no</td>\n",
       "      <td>high</td>\n",
       "    </tr>\n",
       "    <tr>\n",
       "      <th>7</th>\n",
       "      <td>vandalism</td>\n",
       "      <td>saturday</td>\n",
       "      <td>21:00</td>\n",
       "      <td>bayview</td>\n",
       "      <td>700 block of kirkwood av</td>\n",
       "      <td>-122.374019</td>\n",
       "      <td>37.729203</td>\n",
       "      <td>01</td>\n",
       "      <td>2015</td>\n",
       "      <td>t6</td>\n",
       "      <td>no</td>\n",
       "      <td>high</td>\n",
       "    </tr>\n",
       "    <tr>\n",
       "      <th>8</th>\n",
       "      <td>burglary</td>\n",
       "      <td>saturday</td>\n",
       "      <td>16:09</td>\n",
       "      <td>central</td>\n",
       "      <td>200 block of stockton st</td>\n",
       "      <td>-122.406568</td>\n",
       "      <td>37.787809</td>\n",
       "      <td>01</td>\n",
       "      <td>2015</td>\n",
       "      <td>t5</td>\n",
       "      <td>no</td>\n",
       "      <td>high</td>\n",
       "    </tr>\n",
       "  </tbody>\n",
       "</table>\n",
       "</div>"
      ],
      "text/plain": [
       "    category       day   time    district                      address  \\\n",
       "1    robbery    sunday  15:45  tenderloin  300 block of leavenworth st   \n",
       "2    assault    sunday  15:45  tenderloin  300 block of leavenworth st   \n",
       "4  vandalism   tuesday  19:00    northern       lombard st / laguna st   \n",
       "7  vandalism  saturday  21:00     bayview     700 block of kirkwood av   \n",
       "8   burglary  saturday  16:09     central     200 block of stockton st   \n",
       "\n",
       "    longitude   latitude month  year interval resolved label  \n",
       "1 -122.414406  37.784191    02  2015       t4       no  high  \n",
       "2 -122.414406  37.784191    02  2015       t4       no  high  \n",
       "4 -122.431119  37.800469    01  2015       t5       no  high  \n",
       "7 -122.374019  37.729203    01  2015       t6       no  high  \n",
       "8 -122.406568  37.787809    01  2015       t5       no  high  "
      ]
     },
     "execution_count": 14,
     "metadata": {},
     "output_type": "execute_result"
    }
   ],
   "source": [
    "crime_data.head()"
   ]
  },
  {
   "cell_type": "markdown",
   "metadata": {},
   "source": [
    "Integrate support datasets into crime data."
   ]
  },
  {
   "cell_type": "code",
   "execution_count": 15,
   "metadata": {},
   "outputs": [],
   "source": [
    "#near_crime = crime_data.iloc[:5,:].apply(lambda row: isNear((row['latitude'], row['longitude']), crime_data.iloc[:4,:], 1), axis=1)"
   ]
  },
  {
   "cell_type": "markdown",
   "metadata": {},
   "source": [
    "Save the dataframe as a pickle to store directory."
   ]
  },
  {
   "cell_type": "code",
   "execution_count": 16,
   "metadata": {},
   "outputs": [],
   "source": [
    "crime_data.to_pickle('store/crime_data.pkl')"
   ]
  },
  {
   "cell_type": "code",
   "execution_count": null,
   "metadata": {},
   "outputs": [],
   "source": []
  }
 ],
 "metadata": {
  "kernelspec": {
   "display_name": "Python 3",
   "language": "python",
   "name": "python3"
  },
  "language_info": {
   "codemirror_mode": {
    "name": "ipython",
    "version": 3
   },
   "file_extension": ".py",
   "mimetype": "text/x-python",
   "name": "python",
   "nbconvert_exporter": "python",
   "pygments_lexer": "ipython3",
   "version": "3.6.5"
  }
 },
 "nbformat": 4,
 "nbformat_minor": 2
}
