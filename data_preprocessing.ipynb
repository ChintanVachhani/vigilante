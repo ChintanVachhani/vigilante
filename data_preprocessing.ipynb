{
 "cells": [
  {
   "cell_type": "markdown",
   "metadata": {},
   "source": [
    "# Data Preprocessing"
   ]
  },
  {
   "cell_type": "markdown",
   "metadata": {},
   "source": [
    "This notebook is used to clean, reduce, transform, integrate and discretize the final data set."
   ]
  },
  {
   "cell_type": "code",
   "execution_count": 1,
   "metadata": {},
   "outputs": [],
   "source": [
    "import pandas as pd\n",
    "import numpy as np\n",
    "from math import sin, cos, sqrt, atan2, radians\n",
    "import pickle"
   ]
  },
  {
   "cell_type": "markdown",
   "metadata": {},
   "source": [
    "## Methods"
   ]
  },
  {
   "cell_type": "code",
   "execution_count": 2,
   "metadata": {},
   "outputs": [],
   "source": [
    "def discretizeTime(time):\n",
    "    '''\n",
    "    function to map 24-hours format time to one of the six 4 hours intervals.\n",
    "    '''\n",
    "    if '00:00' <= time < '04:00':\n",
    "        return 't1'\n",
    "    elif '04:00' <= time < '08:00':\n",
    "        return 't2'\n",
    "    elif '08:00' <= time < '12:00':\n",
    "        return 't3'\n",
    "    elif '12:00' <= time < '16:00':\n",
    "        return 't4'\n",
    "    elif '16:00' <= time < '20:00':\n",
    "        return 't5'\n",
    "    elif '20:00' <= time < '24:00':\n",
    "        return 't6'"
   ]
  },
  {
   "cell_type": "code",
   "execution_count": 3,
   "metadata": {},
   "outputs": [],
   "source": [
    "def categorizeMonth(month):\n",
    "    '''\n",
    "    function to map numeric months to their names.\n",
    "    '''\n",
    "    months = ['january', 'february', 'march', 'april', 'may', 'june', 'july', 'august', 'september', 'october', 'november', 'december']\n",
    "    return months[int(month)-1]"
   ]
  },
  {
   "cell_type": "code",
   "execution_count": 4,
   "metadata": {},
   "outputs": [],
   "source": [
    "def categorizeResolution(status):\n",
    "    '''\n",
    "    function to tag a resolution as No if the crime is not resolved, otherwise Yes.\n",
    "    '''\n",
    "    if status == 'NONE':\n",
    "        return 'no'\n",
    "    else:\n",
    "        return 'yes'"
   ]
  },
  {
   "cell_type": "code",
   "execution_count": 5,
   "metadata": {},
   "outputs": [],
   "source": [
    "def binarize(value):\n",
    "    '''\n",
    "    function to binarize 'yes' to 1 and 'no' to 0.\n",
    "    '''\n",
    "    if value == 'yes':\n",
    "        return 1\n",
    "    elif value == 'no':\n",
    "        return 0\n",
    "    else:\n",
    "        return value"
   ]
  },
  {
   "cell_type": "code",
   "execution_count": 6,
   "metadata": {},
   "outputs": [],
   "source": [
    "def calculateDistance(src, dst):\n",
    "    '''\n",
    "    function to calculate the distance between two locations on earth\n",
    "    using src & dst tuples given in the format (latitude, longitude).\n",
    "    '''\n",
    "    # approximate radius of earth in km\n",
    "    R = 6373.0\n",
    "\n",
    "    # approximate 1 km to miles conversion\n",
    "    to_miles = 0.621371\n",
    "\n",
    "    lat1 = radians(abs(src[0]))\n",
    "    lon1 = radians(abs(src[1]))\n",
    "    lat2 = radians(abs(dst[0]))\n",
    "    lon2 = radians(abs(dst[1]))\n",
    "\n",
    "    dlon = lon2 - lon1\n",
    "    dlat = lat2 - lat1\n",
    "\n",
    "    a = sin(dlat / 2)**2 + cos(lat1) * cos(lat2) * sin(dlon / 2)**2\n",
    "    c = 2 * atan2(sqrt(a), sqrt(1 - a))\n",
    "\n",
    "    return R * c * to_miles"
   ]
  },
  {
   "cell_type": "code",
   "execution_count": 7,
   "metadata": {},
   "outputs": [],
   "source": [
    "def isNear(location, data, radius):\n",
    "    '''\n",
    "    function to determine if the given location (latitude, longitude)\n",
    "    is near to any location in the given data (dataframe) based on the given radius.\n",
    "    '''\n",
    "    for index, row in data.iterrows():\n",
    "        if calculateDistance(location, (row['latitude'], row['longitude'])) <= radius:\n",
    "            return 'yes'\n",
    "    return 'no'"
   ]
  },
  {
   "cell_type": "code",
   "execution_count": 8,
   "metadata": {},
   "outputs": [],
   "source": [
    "def labelCategory(category):\n",
    "    '''\n",
    "    function to label a data point as per crime category.\n",
    "    '''\n",
    "    low = [\"trespass\", \"drunkenness\", \"runaway\", \"family offenses\", \"trea\", \"liquor laws\", \"warrants\", \"other offenses\", \"sex offenses, non forcible\"]\n",
    "    moderate = [\"arson\", \"driving under the influence\", \"stolen property\", \"prostitution\", \"recovered vehicle\", \"suspicious occ\", \"pornography/obscene mat\" , \"disorderly conduct\"]\n",
    "    high = [\"vehicle theft\", \"weapon laws\", \"vandalism\", \"assault\", \"robbery\", \"sex offenses, forcible\", \"missing person\", \"larceny/theft\", \"kidnapping\", \"fraud\", \"extortion\", \"burglary\", \"drug/narcotic\" ]\n",
    "    if category in low:\n",
    "        return 'low'\n",
    "    elif category in moderate:\n",
    "        return 'moderate'\n",
    "    elif category in high:\n",
    "        return 'high'"
   ]
  },
  {
   "cell_type": "code",
   "execution_count": 9,
   "metadata": {},
   "outputs": [],
   "source": [
    "def integrate_data(crime_data, data_name):\n",
    "    '''\n",
    "    function to integrate support data sets to the crime data.\n",
    "    '''\n",
    "    data = pd.read_pickle('store/'+data_name+'.pkl', compression='gzip')\n",
    "    column_data = crime_data.apply(lambda row: isNear((row['latitude'], row['longitude']), data, 1), axis=1)\n",
    "    crime_data['near_'+data_name] = column_data\n",
    "    return crime_data"
   ]
  },
  {
   "cell_type": "code",
   "execution_count": 10,
   "metadata": {},
   "outputs": [],
   "source": [
    "def integrate_dataframes(crime_data, data_name):\n",
    "    '''\n",
    "    function to integrate support data sets to the crime data.\n",
    "    '''\n",
    "    data = pd.read_pickle('store/crime_data_'+data_name+'.pkl', compression='gzip')\n",
    "    crime_data['near_'+data_name] = data['near_'+data_name]\n",
    "    return crime_data"
   ]
  },
  {
   "cell_type": "markdown",
   "metadata": {},
   "source": [
    "## Process"
   ]
  },
  {
   "cell_type": "code",
   "execution_count": 11,
   "metadata": {},
   "outputs": [],
   "source": [
    "crime_data = pd.read_csv('data/crime_data.csv')"
   ]
  },
  {
   "cell_type": "markdown",
   "metadata": {},
   "source": [
    "Clean the data. Replace 'nan' values with 'N/A'. Drop columns that do not help with the goal. Remove rows that do not fall under the goal criteria."
   ]
  },
  {
   "cell_type": "code",
   "execution_count": 12,
   "metadata": {},
   "outputs": [],
   "source": [
    "crime_data = crime_data.replace(np.nan, 'N/A')\n",
    "crime_data = crime_data.drop(['IncidntNum', 'Descript', 'Location', 'PdId', 'Address'], axis=1)\n",
    "crime_data = crime_data[crime_data.PdDistrict != 'N/A']\n",
    "crime_data = crime_data[crime_data.Category != 'NON-CRIMINAL']\n",
    "crime_data = crime_data[crime_data.Category != 'SECONDARY CODES']\n",
    "crime_data = crime_data[crime_data.Category != 'GAMBLING']\n",
    "crime_data = crime_data[crime_data.Category != 'FORGERY/COUNTERFEITING']\n",
    "crime_data = crime_data[crime_data.Category != 'LOITERING']\n",
    "crime_data = crime_data[crime_data.Category != 'SUICIDE']\n",
    "crime_data = crime_data[crime_data.Category != 'BAD CHECKS']\n",
    "crime_data = crime_data[crime_data.Category != 'EMBEZZLEMENT']\n",
    "crime_data = crime_data[crime_data.Category != 'BRIBERY']"
   ]
  },
  {
   "cell_type": "markdown",
   "metadata": {},
   "source": [
    "Modify the column names and values to match the scenario and neccesity."
   ]
  },
  {
   "cell_type": "code",
   "execution_count": 13,
   "metadata": {},
   "outputs": [],
   "source": [
    "crime_data = crime_data.rename(str.lower, axis='columns')\n",
    "crime_data = crime_data.rename(index=str, columns={\"dayofweek\": \"day\", \"pddistrict\": \"district\", \"x\": \"longitude\", \"y\": \"latitude\"})\n",
    "crime_data['category'] = crime_data['category'].apply(str.lower)\n",
    "crime_data['day'] = crime_data['day'].apply(str.lower)\n",
    "crime_data['district'] = crime_data['district'].apply(str.lower)"
   ]
  },
  {
   "cell_type": "markdown",
   "metadata": {},
   "source": [
    "Split the 'date' column into 'month' and 'year' for better classification."
   ]
  },
  {
   "cell_type": "code",
   "execution_count": 14,
   "metadata": {},
   "outputs": [],
   "source": [
    "date = crime_data['date'].str.split('/')\n",
    "month = date.apply(lambda x: x[0])\n",
    "year = date.apply(lambda x: x[2])\n",
    "crime_data['month'] = month\n",
    "crime_data['month'] = crime_data['month'].apply(categorizeMonth)\n",
    "crime_data['year'] = year\n",
    "crime_data = crime_data.drop('date', axis=1)"
   ]
  },
  {
   "cell_type": "markdown",
   "metadata": {},
   "source": [
    "Discretize 'time' column to be represented using 6 interval classes."
   ]
  },
  {
   "cell_type": "code",
   "execution_count": 15,
   "metadata": {},
   "outputs": [],
   "source": [
    "time_interval = crime_data['time'].apply(discretizeTime)\n",
    "crime_data['time_interval'] = time_interval\n",
    "crime_data = crime_data.drop('time', axis=1)"
   ]
  },
  {
   "cell_type": "markdown",
   "metadata": {},
   "source": [
    "Create a 'resolved' column to represent if a crime report was resolved or not."
   ]
  },
  {
   "cell_type": "code",
   "execution_count": 16,
   "metadata": {},
   "outputs": [],
   "source": [
    "resolved = crime_data['resolution'].apply(categorizeResolution)\n",
    "crime_data['resolved'] = resolved\n",
    "crime_data = crime_data.drop('resolution', axis=1)"
   ]
  },
  {
   "cell_type": "markdown",
   "metadata": {},
   "source": [
    "Externally label the data points to reflect what is to be achieved."
   ]
  },
  {
   "cell_type": "code",
   "execution_count": 17,
   "metadata": {},
   "outputs": [],
   "source": [
    "label = crime_data['category'].apply(labelCategory)\n",
    "crime_data['label'] = label"
   ]
  },
  {
   "cell_type": "markdown",
   "metadata": {},
   "source": [
    "Integrate support datasets into crime data."
   ]
  },
  {
   "cell_type": "code",
   "execution_count": 18,
   "metadata": {},
   "outputs": [],
   "source": [
    "support_data = ['facilities','private_spaces','colleges','public_open_spaces','commuter_stops','public_park','landmarks','schools']\n",
    "for data in support_data:\n",
    "    crime_data = integrate_data(crime_data, data)\n",
    "# support_data = ['facilities','private_spaces','colleges','public_open_spaces','commuter_stops','public_park','landmarks','schools']\n",
    "# for data in support_data:\n",
    "#     crime_data = integrate_dataframes(crime_data, data)"
   ]
  },
  {
   "cell_type": "markdown",
   "metadata": {},
   "source": [
    "Binarize the 'yes' and 'no' values."
   ]
  },
  {
   "cell_type": "code",
   "execution_count": 19,
   "metadata": {},
   "outputs": [],
   "source": [
    "crime_data = crime_data.applymap(binarize)"
   ]
  },
  {
   "cell_type": "markdown",
   "metadata": {},
   "source": [
    "Save the dataframe as a pickle to store directory."
   ]
  },
  {
   "cell_type": "code",
   "execution_count": 20,
   "metadata": {},
   "outputs": [
    {
     "name": "stdout",
     "output_type": "stream",
     "text": [
      "Pickling to file - crime_data.pkl complete.\n"
     ]
    }
   ],
   "source": [
    "crime_data.to_pickle('store/crime_data.pkl', compression='gzip', protocol=2)\n",
    "print(\"Pickling to file - crime_data.pkl complete.\")"
   ]
  }
 ],
 "metadata": {
  "kernelspec": {
   "display_name": "Python 3",
   "language": "python",
   "name": "python3"
  },
  "language_info": {
   "codemirror_mode": {
    "name": "ipython",
    "version": 3
   },
   "file_extension": ".py",
   "mimetype": "text/x-python",
   "name": "python",
   "nbconvert_exporter": "python",
   "pygments_lexer": "ipython3",
   "version": "3.6.5"
  }
 },
 "nbformat": 4,
 "nbformat_minor": 2
}
