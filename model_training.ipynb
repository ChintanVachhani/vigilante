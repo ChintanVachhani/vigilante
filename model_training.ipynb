{
 "cells": [
  {
   "cell_type": "markdown",
   "metadata": {},
   "source": [
    "# Model Training"
   ]
  },
  {
   "cell_type": "markdown",
   "metadata": {},
   "source": [
    "This notebook is used to train the processed crime data set on different models and compare the results."
   ]
  },
  {
   "cell_type": "code",
   "execution_count": 1,
   "metadata": {},
   "outputs": [],
   "source": [
    "import pandas as pd\n",
    "import numpy as np\n",
    "import pickle\n",
    "from sklearn.model_selection import train_test_split\n",
    "from sklearn.neighbors import KNeighborsClassifier\n",
    "from sklearn.preprocessing import LabelEncoder\n",
    "from sklearn.metrics import f1_score"
   ]
  },
  {
   "cell_type": "markdown",
   "metadata": {},
   "source": [
    "## Methods"
   ]
  },
  {
   "cell_type": "code",
   "execution_count": 2,
   "metadata": {},
   "outputs": [],
   "source": [
    "def createAndSaveLabelEncoder(data, column):\n",
    "    '''\n",
    "    function to create and save label encoder object for the given column.\n",
    "    '''\n",
    "    le = LabelEncoder()\n",
    "    le.fit(data[column])\n",
    "    with open('store/'+column+'_label_encoder.pkl', 'wb') as f:\n",
    "        pickle.dump(le, f)\n",
    "    data[column] = le.transform(data[column])\n",
    "    return data"
   ]
  },
  {
   "cell_type": "code",
   "execution_count": 3,
   "metadata": {},
   "outputs": [],
   "source": [
    "def loadLabelEncoder(column):\n",
    "    '''\n",
    "    function to load label encoder object for the given column.\n",
    "    '''\n",
    "    with open('store/'+column+'_label_encoder.pkl', 'rb') as f:\n",
    "        le = pickle.load(f)\n",
    "    return le"
   ]
  },
  {
   "cell_type": "code",
   "execution_count": 4,
   "metadata": {},
   "outputs": [],
   "source": [
    "def saveModel(model, name):\n",
    "    '''\n",
    "    function to save model object with the given name.\n",
    "    '''\n",
    "    with open('store/'+name+'_model.pkl', 'wb') as f:\n",
    "        pickle.dump(model, f)\n",
    "    print('%s Model saved successfully.' % name)"
   ]
  },
  {
   "cell_type": "markdown",
   "metadata": {},
   "source": [
    "## Model"
   ]
  },
  {
   "cell_type": "markdown",
   "metadata": {},
   "source": [
    "Get the processed data."
   ]
  },
  {
   "cell_type": "code",
   "execution_count": 5,
   "metadata": {},
   "outputs": [],
   "source": [
    "crime_data = pd.read_pickle('store/crime_data.pkl', compression='gzip')"
   ]
  },
  {
   "cell_type": "code",
   "execution_count": 6,
   "metadata": {},
   "outputs": [
    {
     "data": {
      "text/html": [
       "<div>\n",
       "<style scoped>\n",
       "    .dataframe tbody tr th:only-of-type {\n",
       "        vertical-align: middle;\n",
       "    }\n",
       "\n",
       "    .dataframe tbody tr th {\n",
       "        vertical-align: top;\n",
       "    }\n",
       "\n",
       "    .dataframe thead th {\n",
       "        text-align: right;\n",
       "    }\n",
       "</style>\n",
       "<table border=\"1\" class=\"dataframe\">\n",
       "  <thead>\n",
       "    <tr style=\"text-align: right;\">\n",
       "      <th></th>\n",
       "      <th>category</th>\n",
       "      <th>day</th>\n",
       "      <th>district</th>\n",
       "      <th>longitude</th>\n",
       "      <th>latitude</th>\n",
       "      <th>month</th>\n",
       "      <th>year</th>\n",
       "      <th>time_interval</th>\n",
       "      <th>resolved</th>\n",
       "      <th>label</th>\n",
       "      <th>near_facilities</th>\n",
       "      <th>near_private_spaces</th>\n",
       "      <th>near_colleges</th>\n",
       "      <th>near_public_open_spaces</th>\n",
       "      <th>near_commuter_stops</th>\n",
       "      <th>near_public_park</th>\n",
       "      <th>near_landmarks</th>\n",
       "      <th>near_schools</th>\n",
       "    </tr>\n",
       "  </thead>\n",
       "  <tbody>\n",
       "    <tr>\n",
       "      <th>1</th>\n",
       "      <td>robbery</td>\n",
       "      <td>sunday</td>\n",
       "      <td>tenderloin</td>\n",
       "      <td>-122.414406</td>\n",
       "      <td>37.784191</td>\n",
       "      <td>february</td>\n",
       "      <td>2015</td>\n",
       "      <td>t4</td>\n",
       "      <td>0</td>\n",
       "      <td>high</td>\n",
       "      <td>1</td>\n",
       "      <td>1</td>\n",
       "      <td>1</td>\n",
       "      <td>1</td>\n",
       "      <td>1</td>\n",
       "      <td>1</td>\n",
       "      <td>1</td>\n",
       "      <td>1</td>\n",
       "    </tr>\n",
       "    <tr>\n",
       "      <th>2</th>\n",
       "      <td>assault</td>\n",
       "      <td>sunday</td>\n",
       "      <td>tenderloin</td>\n",
       "      <td>-122.414406</td>\n",
       "      <td>37.784191</td>\n",
       "      <td>february</td>\n",
       "      <td>2015</td>\n",
       "      <td>t4</td>\n",
       "      <td>0</td>\n",
       "      <td>high</td>\n",
       "      <td>1</td>\n",
       "      <td>1</td>\n",
       "      <td>1</td>\n",
       "      <td>1</td>\n",
       "      <td>1</td>\n",
       "      <td>1</td>\n",
       "      <td>1</td>\n",
       "      <td>1</td>\n",
       "    </tr>\n",
       "    <tr>\n",
       "      <th>4</th>\n",
       "      <td>vandalism</td>\n",
       "      <td>tuesday</td>\n",
       "      <td>northern</td>\n",
       "      <td>-122.431119</td>\n",
       "      <td>37.800469</td>\n",
       "      <td>january</td>\n",
       "      <td>2015</td>\n",
       "      <td>t5</td>\n",
       "      <td>0</td>\n",
       "      <td>high</td>\n",
       "      <td>1</td>\n",
       "      <td>0</td>\n",
       "      <td>1</td>\n",
       "      <td>1</td>\n",
       "      <td>1</td>\n",
       "      <td>1</td>\n",
       "      <td>1</td>\n",
       "      <td>1</td>\n",
       "    </tr>\n",
       "    <tr>\n",
       "      <th>7</th>\n",
       "      <td>vandalism</td>\n",
       "      <td>saturday</td>\n",
       "      <td>bayview</td>\n",
       "      <td>-122.374019</td>\n",
       "      <td>37.729203</td>\n",
       "      <td>january</td>\n",
       "      <td>2015</td>\n",
       "      <td>t6</td>\n",
       "      <td>0</td>\n",
       "      <td>high</td>\n",
       "      <td>1</td>\n",
       "      <td>0</td>\n",
       "      <td>0</td>\n",
       "      <td>1</td>\n",
       "      <td>0</td>\n",
       "      <td>1</td>\n",
       "      <td>1</td>\n",
       "      <td>1</td>\n",
       "    </tr>\n",
       "    <tr>\n",
       "      <th>8</th>\n",
       "      <td>burglary</td>\n",
       "      <td>saturday</td>\n",
       "      <td>central</td>\n",
       "      <td>-122.406568</td>\n",
       "      <td>37.787809</td>\n",
       "      <td>january</td>\n",
       "      <td>2015</td>\n",
       "      <td>t5</td>\n",
       "      <td>0</td>\n",
       "      <td>high</td>\n",
       "      <td>1</td>\n",
       "      <td>1</td>\n",
       "      <td>1</td>\n",
       "      <td>1</td>\n",
       "      <td>1</td>\n",
       "      <td>1</td>\n",
       "      <td>1</td>\n",
       "      <td>1</td>\n",
       "    </tr>\n",
       "  </tbody>\n",
       "</table>\n",
       "</div>"
      ],
      "text/plain": [
       "    category       day    district   longitude   latitude     month  year  \\\n",
       "1    robbery    sunday  tenderloin -122.414406  37.784191  february  2015   \n",
       "2    assault    sunday  tenderloin -122.414406  37.784191  february  2015   \n",
       "4  vandalism   tuesday    northern -122.431119  37.800469   january  2015   \n",
       "7  vandalism  saturday     bayview -122.374019  37.729203   january  2015   \n",
       "8   burglary  saturday     central -122.406568  37.787809   january  2015   \n",
       "\n",
       "  time_interval  resolved label  near_facilities  near_private_spaces  \\\n",
       "1            t4         0  high                1                    1   \n",
       "2            t4         0  high                1                    1   \n",
       "4            t5         0  high                1                    0   \n",
       "7            t6         0  high                1                    0   \n",
       "8            t5         0  high                1                    1   \n",
       "\n",
       "   near_colleges  near_public_open_spaces  near_commuter_stops  \\\n",
       "1              1                        1                    1   \n",
       "2              1                        1                    1   \n",
       "4              1                        1                    1   \n",
       "7              0                        1                    0   \n",
       "8              1                        1                    1   \n",
       "\n",
       "   near_public_park  near_landmarks  near_schools  \n",
       "1                 1               1             1  \n",
       "2                 1               1             1  \n",
       "4                 1               1             1  \n",
       "7                 1               1             1  \n",
       "8                 1               1             1  "
      ]
     },
     "execution_count": 6,
     "metadata": {},
     "output_type": "execute_result"
    }
   ],
   "source": [
    "crime_data.head()"
   ]
  },
  {
   "cell_type": "markdown",
   "metadata": {},
   "source": [
    "Drop columns that do not need to be considered for classification model."
   ]
  },
  {
   "cell_type": "code",
   "execution_count": 7,
   "metadata": {},
   "outputs": [],
   "source": [
    "crime_data = crime_data.drop(['category', 'year'], axis=1)"
   ]
  },
  {
   "cell_type": "markdown",
   "metadata": {},
   "source": [
    "Store the columns list."
   ]
  },
  {
   "cell_type": "code",
   "execution_count": 8,
   "metadata": {},
   "outputs": [],
   "source": [
    "columns = list(crime_data)"
   ]
  },
  {
   "cell_type": "markdown",
   "metadata": {},
   "source": [
    "Label encode all the columns that require it."
   ]
  },
  {
   "cell_type": "code",
   "execution_count": 9,
   "metadata": {},
   "outputs": [],
   "source": [
    "cols = ['day', 'district', 'month', 'time_interval', 'label']\n",
    "for col in cols:\n",
    "    crime_data = createAndSaveLabelEncoder(crime_data, col)"
   ]
  },
  {
   "cell_type": "markdown",
   "metadata": {},
   "source": [
    "Extract labels."
   ]
  },
  {
   "cell_type": "code",
   "execution_count": 10,
   "metadata": {},
   "outputs": [],
   "source": [
    "labels = crime_data['label']\n",
    "crime_data = crime_data.drop('label', axis=1)"
   ]
  },
  {
   "cell_type": "markdown",
   "metadata": {},
   "source": [
    "Split the train and test data sets."
   ]
  },
  {
   "cell_type": "code",
   "execution_count": 11,
   "metadata": {},
   "outputs": [],
   "source": [
    "X_train, X_test, y_train, y_test = train_test_split(crime_data.values, labels, test_size=0.33, random_state=42)"
   ]
  },
  {
   "cell_type": "markdown",
   "metadata": {},
   "source": [
    "Train the models."
   ]
  },
  {
   "cell_type": "code",
   "execution_count": 12,
   "metadata": {},
   "outputs": [
    {
     "data": {
      "text/plain": [
       "KNeighborsClassifier(algorithm='auto', leaf_size=30, metric='minkowski',\n",
       "           metric_params=None, n_jobs=1, n_neighbors=3, p=2,\n",
       "           weights='uniform')"
      ]
     },
     "execution_count": 12,
     "metadata": {},
     "output_type": "execute_result"
    }
   ],
   "source": [
    "kNN_model = KNeighborsClassifier(n_neighbors=3)\n",
    "kNN_model.fit(X_train, y_train) "
   ]
  },
  {
   "cell_type": "markdown",
   "metadata": {},
   "source": [
    "## Tuning"
   ]
  },
  {
   "cell_type": "code",
   "execution_count": null,
   "metadata": {},
   "outputs": [],
   "source": []
  },
  {
   "cell_type": "markdown",
   "metadata": {},
   "source": [
    "## Evaluation"
   ]
  },
  {
   "cell_type": "code",
   "execution_count": 13,
   "metadata": {},
   "outputs": [
    {
     "name": "stdout",
     "output_type": "stream",
     "text": [
      "F1 Score: 0.667100\n"
     ]
    }
   ],
   "source": [
    "y_pred = kNN_model.predict(X_test)\n",
    "score = f1_score(y_test, y_pred, average='weighted')\n",
    "print(\"F1 Score: %f\" %(score))\n",
    "# y_pred = kNN_model.predict(X_test[0].reshape(1, -1))\n",
    "# score = f1_score(y_test[0].reshape(1, -1), y_pred, average='weighted')\n",
    "# print(\"F1 Score: %f\" %(score))"
   ]
  },
  {
   "cell_type": "markdown",
   "metadata": {},
   "source": [
    "## Save the winner model."
   ]
  },
  {
   "cell_type": "code",
   "execution_count": 15,
   "metadata": {},
   "outputs": [
    {
     "data": {
      "text/plain": [
       "['day',\n",
       " 'district',\n",
       " 'longitude',\n",
       " 'latitude',\n",
       " 'month',\n",
       " 'time_interval',\n",
       " 'resolved',\n",
       " 'label',\n",
       " 'near_facilities',\n",
       " 'near_private_spaces',\n",
       " 'near_colleges',\n",
       " 'near_public_open_spaces',\n",
       " 'near_commuter_stops',\n",
       " 'near_public_park',\n",
       " 'near_landmarks',\n",
       " 'near_schools']"
      ]
     },
     "execution_count": 15,
     "metadata": {},
     "output_type": "execute_result"
    }
   ],
   "source": [
    "columns"
   ]
  },
  {
   "cell_type": "code",
   "execution_count": 14,
   "metadata": {},
   "outputs": [],
   "source": [
    "# le = loadLabelEncoder('label')\n",
    "# labels = le.inverse_transform(labels.values)"
   ]
  },
  {
   "cell_type": "code",
   "execution_count": null,
   "metadata": {},
   "outputs": [],
   "source": []
  }
 ],
 "metadata": {
  "kernelspec": {
   "display_name": "Python 3",
   "language": "python",
   "name": "python3"
  },
  "language_info": {
   "codemirror_mode": {
    "name": "ipython",
    "version": 3
   },
   "file_extension": ".py",
   "mimetype": "text/x-python",
   "name": "python",
   "nbconvert_exporter": "python",
   "pygments_lexer": "ipython3",
   "version": "3.6.5"
  }
 },
 "nbformat": 4,
 "nbformat_minor": 2
}
