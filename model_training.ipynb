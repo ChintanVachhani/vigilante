{
 "cells": [
  {
   "cell_type": "markdown",
   "metadata": {},
   "source": [
    "# Model Training"
   ]
  },
  {
   "cell_type": "markdown",
   "metadata": {},
   "source": [
    "This notebook is used to train the processed crime data set on different models and compare the results."
   ]
  },
  {
   "cell_type": "code",
   "execution_count": 1,
   "metadata": {},
   "outputs": [],
   "source": [
    "import pandas as pd\n",
    "import numpy as np\n",
    "import pickle\n",
    "from sklearn.model_selection import train_test_split, cross_val_predict, GridSearchCV\n",
    "from sklearn.neighbors import KNeighborsClassifier\n",
    "from sklearn.ensemble import RandomForestClassifier\n",
    "from sklearn.naive_bayes import GaussianNB\n",
    "from sklearn.neural_network import MLPClassifier\n",
    "from sklearn.preprocessing import LabelEncoder\n",
    "from sklearn.metrics import f1_score, classification_report"
   ]
  },
  {
   "cell_type": "markdown",
   "metadata": {},
   "source": [
    "## Methods"
   ]
  },
  {
   "cell_type": "code",
   "execution_count": 2,
   "metadata": {},
   "outputs": [],
   "source": [
    "def createAndSaveLabelEncoder(data, column):\n",
    "    '''\n",
    "    function to create and save label encoder object for the given column.\n",
    "    '''\n",
    "    le = LabelEncoder()\n",
    "    le.fit(data[column])\n",
    "    with open('store/'+column+'_label_encoder.pkl', 'wb') as f:\n",
    "        pickle.dump(le, f)\n",
    "    data[column] = le.transform(data[column])\n",
    "    return data"
   ]
  },
  {
   "cell_type": "code",
   "execution_count": 3,
   "metadata": {},
   "outputs": [],
   "source": [
    "def loadLabelEncoder(column):\n",
    "    '''\n",
    "    function to load label encoder object for the given column.\n",
    "    '''\n",
    "    with open('store/'+column+'_label_encoder.pkl', 'rb') as f:\n",
    "        le = pickle.load(f)\n",
    "    return le"
   ]
  },
  {
   "cell_type": "code",
   "execution_count": 4,
   "metadata": {},
   "outputs": [],
   "source": [
    "def saveModel(model, name):\n",
    "    '''\n",
    "    function to save model object with the given name.\n",
    "    '''\n",
    "    with open('store/'+name+'_model.pkl', 'wb') as f:\n",
    "        pickle.dump(model, f)\n",
    "    print('%s Model saved successfully.' % name)"
   ]
  },
  {
   "cell_type": "code",
   "execution_count": 5,
   "metadata": {},
   "outputs": [],
   "source": [
    "def tuneModel(model, parameters, X_train, y_train):\n",
    "    '''\n",
    "    function to tune the model to find best combination of parameters.\n",
    "    '''\n",
    "    tuner = GridSearchCV(model, parameters)\n",
    "    tuner.fit(X_train, y_train)\n",
    "    return tuner.best_params_"
   ]
  },
  {
   "cell_type": "code",
   "execution_count": 6,
   "metadata": {},
   "outputs": [],
   "source": [
    "def validateModel(model, X_train, y_train, target_names):\n",
    "    '''\n",
    "    function to validate the given model using the given parameters and display the report.\n",
    "    '''\n",
    "    y_val = cross_val_predict(model, X_train, y_train, cv=10, n_jobs=-1)\n",
    "    print(classification_report(y_train, y_val, target_names=target_names))"
   ]
  },
  {
   "cell_type": "code",
   "execution_count": 7,
   "metadata": {},
   "outputs": [],
   "source": [
    "def fitModel(model, parameters, X_train, y_train):\n",
    "    model.set_params(**parameters)\n",
    "    model.fit(X_train, y_train)\n",
    "    return model"
   ]
  },
  {
   "cell_type": "code",
   "execution_count": 8,
   "metadata": {},
   "outputs": [],
   "source": [
    "def evaluateModel(model, X_test, y_test, target_names):\n",
    "    '''\n",
    "    function to evaluated the given model using the given parameters and display the report.\n",
    "    '''\n",
    "    y_pred = model.predict(X_test)\n",
    "    print(classification_report(y_test, y_pred, target_names=target_names))"
   ]
  },
  {
   "cell_type": "markdown",
   "metadata": {},
   "source": [
    "## Model"
   ]
  },
  {
   "cell_type": "markdown",
   "metadata": {},
   "source": [
    "Get the processed data."
   ]
  },
  {
   "cell_type": "code",
   "execution_count": 9,
   "metadata": {},
   "outputs": [],
   "source": [
    "crime_data = pd.read_pickle('store/crime_data.pkl', compression='gzip')"
   ]
  },
  {
   "cell_type": "markdown",
   "metadata": {},
   "source": [
    "Drop columns that do not need to be considered for classification model."
   ]
  },
  {
   "cell_type": "code",
   "execution_count": 10,
   "metadata": {},
   "outputs": [],
   "source": [
    "crime_data = crime_data.drop(['category', 'year'], axis=1)"
   ]
  },
  {
   "cell_type": "markdown",
   "metadata": {},
   "source": [
    "Store the columns list."
   ]
  },
  {
   "cell_type": "code",
   "execution_count": 11,
   "metadata": {},
   "outputs": [],
   "source": [
    "columns = list(crime_data)"
   ]
  },
  {
   "cell_type": "markdown",
   "metadata": {},
   "source": [
    "Label encode all the columns that require it."
   ]
  },
  {
   "cell_type": "code",
   "execution_count": 12,
   "metadata": {},
   "outputs": [],
   "source": [
    "cols = ['day', 'district', 'month', 'time_interval', 'label']\n",
    "for col in cols:\n",
    "    crime_data = createAndSaveLabelEncoder(crime_data, col)"
   ]
  },
  {
   "cell_type": "markdown",
   "metadata": {},
   "source": [
    "Extract labels."
   ]
  },
  {
   "cell_type": "code",
   "execution_count": 13,
   "metadata": {},
   "outputs": [],
   "source": [
    "labels = crime_data['label']\n",
    "crime_data = crime_data.drop('label', axis=1)"
   ]
  },
  {
   "cell_type": "markdown",
   "metadata": {},
   "source": [
    "Split the train and test data sets."
   ]
  },
  {
   "cell_type": "code",
   "execution_count": 14,
   "metadata": {},
   "outputs": [],
   "source": [
    "X_train, X_test, y_train, y_test = train_test_split(crime_data.values, labels, test_size=0.2, random_state=42, stratify=labels)"
   ]
  },
  {
   "cell_type": "markdown",
   "metadata": {},
   "source": [
    "Define the KNeighborsClassifier model."
   ]
  },
  {
   "cell_type": "code",
   "execution_count": 15,
   "metadata": {},
   "outputs": [],
   "source": [
    "kNN_model = KNeighborsClassifier()"
   ]
  },
  {
   "cell_type": "markdown",
   "metadata": {},
   "source": [
    "Define the RandomForestClassifier model."
   ]
  },
  {
   "cell_type": "code",
   "execution_count": 16,
   "metadata": {},
   "outputs": [],
   "source": [
    "randomForest_model = RandomForestClassifier()"
   ]
  },
  {
   "cell_type": "markdown",
   "metadata": {},
   "source": [
    "Define the GaussianNB model."
   ]
  },
  {
   "cell_type": "code",
   "execution_count": 17,
   "metadata": {},
   "outputs": [],
   "source": [
    "gaussianNB_model = GaussianNB()"
   ]
  },
  {
   "cell_type": "markdown",
   "metadata": {},
   "source": [
    "## Tuning"
   ]
  },
  {
   "cell_type": "markdown",
   "metadata": {},
   "source": [
    "Tune the KNeighborsClassifier model."
   ]
  },
  {
   "cell_type": "code",
   "execution_count": 18,
   "metadata": {},
   "outputs": [],
   "source": [
    "# kNN_parameters = {'n_neighbors': [3, 5, 10, 20, 50],\n",
    "#               'weights': ['uniform', 'distance'],\n",
    "#               'algorithm': ['auto'],\n",
    "#               'leaf_size': [30],\n",
    "#               'metric': ['euclidean'],\n",
    "#               'n_jobs': [-1]\n",
    "#              }\n",
    "# best_parameters = tuneModel(kNN_model, kNN_parameters, X_train, y_train)\n",
    "# kNN_model = fitModel(kNN_model, best_parameters, X_train, y_train)\n",
    "# kNN_model"
   ]
  },
  {
   "cell_type": "markdown",
   "metadata": {},
   "source": [
    "Tune the RandomForestClassifier model."
   ]
  },
  {
   "cell_type": "code",
   "execution_count": 19,
   "metadata": {},
   "outputs": [],
   "source": [
    "# randomForest_parameters = {\n",
    "#     'n_jobs': [-1],\n",
    "#     'n_estimators': [5, 10, 20, 50, 100],\n",
    "#     'max_features': ['sqrt', 'log2', None],\n",
    "#     'random_state': [0],\n",
    "#     'bootstrap': [True, False],\n",
    "#     'oob_score': [True, False],\n",
    "#     'warm_start': [True, False],\n",
    "#     'class_weight': ['balanced', 'balanced_subsample', None]\n",
    "# }\n",
    "# best_parameters = tuneModel(randomForest_model, randomForest_parameters, X_train, y_train)\n",
    "# randomForest_model = fitModel(randomForest_model, best_parameters, X_train, y_train)\n",
    "# randomForest_model"
   ]
  },
  {
   "cell_type": "markdown",
   "metadata": {},
   "source": [
    "Tune the GaussianNB model."
   ]
  },
  {
   "cell_type": "code",
   "execution_count": 20,
   "metadata": {},
   "outputs": [],
   "source": [
    "# gaussianNB_parameters = {\n",
    "#               'priors': [None]\n",
    "#              }\n",
    "# best_parameters = tuneModel(gaussianNB_model, gaussianNB_model_parameters, X_train, y_train)\n",
    "# gaussianNB_model = fitModel(gaussianNB_model, best_parameters, X_train, y_train)\n",
    "# gaussianNB_model"
   ]
  },
  {
   "cell_type": "markdown",
   "metadata": {},
   "source": [
    "## Validation"
   ]
  },
  {
   "cell_type": "code",
   "execution_count": 21,
   "metadata": {},
   "outputs": [],
   "source": [
    "target_names = ['high', 'low', 'moderate']"
   ]
  },
  {
   "cell_type": "markdown",
   "metadata": {},
   "source": [
    "Validate the KNeighborsClassifier model."
   ]
  },
  {
   "cell_type": "code",
   "execution_count": 22,
   "metadata": {},
   "outputs": [
    {
     "name": "stdout",
     "output_type": "stream",
     "text": [
      "             precision    recall  f1-score   support\n",
      "\n",
      "       high       0.75      0.88      0.81   1051227\n",
      "        low       0.49      0.38      0.43    356445\n",
      "   moderate       0.43      0.08      0.13    108929\n",
      "\n",
      "avg / total       0.67      0.70      0.67   1516601\n",
      "\n"
     ]
    }
   ],
   "source": [
    "validateModel(kNN_model, X_train, y_train, target_names)"
   ]
  },
  {
   "cell_type": "markdown",
   "metadata": {},
   "source": [
    "Validate the RandomForestClassifier model."
   ]
  },
  {
   "cell_type": "code",
   "execution_count": 23,
   "metadata": {},
   "outputs": [
    {
     "name": "stdout",
     "output_type": "stream",
     "text": [
      "             precision    recall  f1-score   support\n",
      "\n",
      "       high       0.77      0.86      0.81   1051227\n",
      "        low       0.51      0.43      0.47    356445\n",
      "   moderate       0.27      0.13      0.17    108929\n",
      "\n",
      "avg / total       0.68      0.70      0.69   1516601\n",
      "\n"
     ]
    }
   ],
   "source": [
    "validateModel(randomForest_model, X_train, y_train, target_names)"
   ]
  },
  {
   "cell_type": "markdown",
   "metadata": {},
   "source": [
    "Validate the GaussianNB model."
   ]
  },
  {
   "cell_type": "code",
   "execution_count": 24,
   "metadata": {},
   "outputs": [
    {
     "name": "stdout",
     "output_type": "stream",
     "text": [
      "             precision    recall  f1-score   support\n",
      "\n",
      "       high       0.70      0.95      0.81   1051227\n",
      "        low       0.49      0.10      0.16    356445\n",
      "   moderate       0.08      0.02      0.03    108929\n",
      "\n",
      "avg / total       0.61      0.68      0.60   1516601\n",
      "\n"
     ]
    }
   ],
   "source": [
    "validateModel(gaussianNB_model, X_train, y_train, target_names)"
   ]
  },
  {
   "cell_type": "markdown",
   "metadata": {},
   "source": [
    "## Evaluation"
   ]
  },
  {
   "cell_type": "markdown",
   "metadata": {},
   "source": [
    "Evaluate the KNeighborsClassifier model."
   ]
  },
  {
   "cell_type": "code",
   "execution_count": 25,
   "metadata": {},
   "outputs": [
    {
     "name": "stdout",
     "output_type": "stream",
     "text": [
      "             precision    recall  f1-score   support\n",
      "\n",
      "       high       0.76      0.88      0.81    262807\n",
      "        low       0.50      0.38      0.43     89111\n",
      "   moderate       0.44      0.08      0.13     27233\n",
      "\n",
      "avg / total       0.67      0.70      0.67    379151\n",
      "\n"
     ]
    }
   ],
   "source": [
    "evaluateModel(kNN_model, X_test, y_test, target_names)"
   ]
  },
  {
   "cell_type": "markdown",
   "metadata": {},
   "source": [
    "Evaluate the RandomForestClassifier model."
   ]
  },
  {
   "cell_type": "code",
   "execution_count": 26,
   "metadata": {},
   "outputs": [
    {
     "name": "stdout",
     "output_type": "stream",
     "text": [
      "             precision    recall  f1-score   support\n",
      "\n",
      "       high       0.78      0.86      0.81    262807\n",
      "        low       0.51      0.44      0.47     89111\n",
      "   moderate       0.27      0.13      0.18     27233\n",
      "\n",
      "avg / total       0.68      0.70      0.69    379151\n",
      "\n"
     ]
    }
   ],
   "source": [
    "evaluateModel(randomForest_model, X_test, y_test, target_names)"
   ]
  },
  {
   "cell_type": "markdown",
   "metadata": {},
   "source": [
    "Evaluate the GaussianNB model."
   ]
  },
  {
   "cell_type": "code",
   "execution_count": 27,
   "metadata": {},
   "outputs": [
    {
     "name": "stdout",
     "output_type": "stream",
     "text": [
      "             precision    recall  f1-score   support\n",
      "\n",
      "       high       0.70      0.95      0.81    262807\n",
      "        low       0.49      0.09      0.16     89111\n",
      "   moderate       0.08      0.02      0.03     27233\n",
      "\n",
      "avg / total       0.61      0.68      0.60    379151\n",
      "\n"
     ]
    }
   ],
   "source": [
    "evaluateModel(gaussianNB_model, X_test, y_test, target_names)"
   ]
  },
  {
   "cell_type": "markdown",
   "metadata": {},
   "source": [
    "## Save the winner model."
   ]
  },
  {
   "cell_type": "code",
   "execution_count": 28,
   "metadata": {},
   "outputs": [],
   "source": [
    "# saveModel(kNN_model, 'kNN')\n",
    "# saveModel(randomForest_model, 'randomForest')\n",
    "# saveModel(gaussianNB_model, 'gaussianNB')"
   ]
  }
 ],
 "metadata": {
  "kernelspec": {
   "display_name": "Python 3",
   "language": "python",
   "name": "python3"
  },
  "language_info": {
   "codemirror_mode": {
    "name": "ipython",
    "version": 3
   },
   "file_extension": ".py",
   "mimetype": "text/x-python",
   "name": "python",
   "nbconvert_exporter": "python",
   "pygments_lexer": "ipython3",
   "version": "3.6.5"
  }
 },
 "nbformat": 4,
 "nbformat_minor": 2
}
